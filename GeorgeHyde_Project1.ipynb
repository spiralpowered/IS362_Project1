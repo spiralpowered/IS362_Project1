{
 "cells": [
  {
   "cell_type": "code",
   "execution_count": 61,
   "id": "3936c2b7",
   "metadata": {},
   "outputs": [
    {
     "name": "stdout",
     "output_type": "stream",
     "text": [
      "                  Los Angeles  Phoenix  San Diego  San Francisco  Seattle\n",
      "ALASKA  on time           497      221        212            503     1841\n",
      "        delayed            62       12         20            102      305\n",
      "AM WEST on time           694     4840        383            320      201\n",
      "        delayed           117      415         65            129       61\n"
     ]
    }
   ],
   "source": [
    "import numpy as np\n",
    "import pandas as pd\n",
    "from pandas import DataFrame, Series\n",
    "\n",
    "\n",
    "def read_file(file):\n",
    "    df = pd.read_csv(file, names=['Los Angeles', 'Phoenix', 'San Diego', 'San Francisco', 'Seattle'], header=0)\n",
    "    return df\n",
    "\n",
    "arrivals = read_file('/home/gh23935521/Downloads/arrivals.csv')\n",
    "print(arrival_data)"
   ]
  },
  {
   "cell_type": "markdown",
   "id": "dde1c584",
   "metadata": {},
   "source": [
    "\n"
   ]
  },
  {
   "cell_type": "markdown",
   "id": "ea3fec31",
   "metadata": {},
   "source": [
    "# Analysis\n",
    "### Alaska\n",
    "Alaska has a total of 3,775 flights, 3,274 (86.7%) of which were on time, and 501 (13.3%) of which were delayed.\n",
    "The airline has the most activity in Seattle, totaling 2,146 (56.8%) and the least activity in San Diego, totaling 232 (6.1%).\n",
    "\n",
    "### AM West\n",
    "AM West has a total of 7,225 flights, nearly double the amount of Alaska. 6,438 (89.1%) of AM West's flights were on time, while 787 (10.9%) of them were delayed.\n",
    "The airline has the most activity in Phoenix, totaling 5,255 (72.7%) and the least activity in Seattle, totaling 262 (3.6%).\n",
    "\n",
    "### Conclusion\n",
    "AM West is definitely the most consistently on time airline out of two. Its on time percentage is 2.4% higher than Alaska's, and its delay percentage is 2.4% lower, despite having much more traffic. Anybody looking to travel to any of these areas is better of flying with AM West is they are pressed for time."
   ]
  },
  {
   "cell_type": "code",
   "execution_count": null,
   "id": "ad46a9d1",
   "metadata": {},
   "outputs": [],
   "source": []
  }
 ],
 "metadata": {
  "kernelspec": {
   "display_name": "Python 3",
   "language": "python",
   "name": "python3"
  },
  "language_info": {
   "codemirror_mode": {
    "name": "ipython",
    "version": 3
   },
   "file_extension": ".py",
   "mimetype": "text/x-python",
   "name": "python",
   "nbconvert_exporter": "python",
   "pygments_lexer": "ipython3",
   "version": "3.8.10"
  }
 },
 "nbformat": 4,
 "nbformat_minor": 5
}
